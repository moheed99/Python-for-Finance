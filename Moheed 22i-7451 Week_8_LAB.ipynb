{
  "nbformat": 4,
  "nbformat_minor": 0,
  "metadata": {
    "colab": {
      "provenance": []
    },
    "kernelspec": {
      "name": "python3",
      "display_name": "Python 3"
    },
    "language_info": {
      "name": "python"
    }
  },
  "cells": [
    {
      "cell_type": "markdown",
      "source": [
        "# **Week 8 Lab: Exception Handling in Python**\n",
        "\n",
        "### **Objective:**\n",
        "\n",
        "This lab session will help students understand and apply exception handling in Python through practical tasks. By the end of the session, students should be able to:\n",
        "\n",
        "- Identify and handle common exceptions.\n",
        "- Implement `try-except` blocks effectively.\n",
        "- Use `finally` and `else` clauses.\n",
        "- Raise and handle specific exceptions.\n",
        "- Apply exception handling in real-world financial applications.\n",
        "\n",
        "---\n",
        "\n",
        "### **Lab Structure:**\n",
        "\n",
        "**Duration:** 2 Hours  \n",
        "**Tasks:** 7  \n",
        "**Assessment:** Each task will be graded based on correctness and efficiency.\n",
        "\n",
        "---\n",
        "\n",
        "## **Task 1: Identifying Common Exceptions**\n",
        "\n",
        "**Objective:** Learn to recognize and handle common Python exceptions.\n",
        "\n",
        "🔹 **Instructions:**\n",
        "\n",
        "1. Write a Python program that performs the following operations:\n",
        "   - Divides a number by zero.\n",
        "   - Tries to access a variable that has not been defined.\n",
        "   - Attempts to convert an invalid string (`\"abc\"`) to an integer.\n",
        "   - Tries to access a dictionary key that does not exist.\n",
        "2. Use `try-except` blocks to handle each of these errors.\n",
        "3. Display a user-friendly message explaining the error when an exception occurs.\n",
        "\n",
        "\n",
        "\n",
        "\n",
        "\n",
        "\n",
        "\n",
        "\n",
        "\n",
        "\n",
        "\n"
      ],
      "metadata": {
        "id": "FP5OIpTNiJv3"
      }
    },
    {
      "cell_type": "code",
      "source": [
        "try:\n",
        "    result = 10 / 0\n",
        "except ZeroDivisionError:\n",
        "    print(\"Error: Cannot divide by zero.\")\n",
        "\n",
        "try:\n",
        "    print(undefined_variable)\n",
        "except NameError:\n",
        "    print(\"Error: Variable is not defined.\")\n",
        "\n",
        "try:\n",
        "    number = int(\"abc\")\n",
        "except ValueError:\n",
        "    print(\"Error: Cannot convert 'abc' to an integer.\")\n",
        "\n",
        "try:\n",
        "    my_dict = {'key1': 'value1'}\n",
        "    print(my_dict['key2'])\n",
        "except KeyError:\n",
        "    print(\"Error: Dictionary key does not exist.\")\n"
      ],
      "metadata": {
        "id": "mB49nrcJjgAt",
        "colab": {
          "base_uri": "https://localhost:8080/"
        },
        "outputId": "95c69b40-f5ad-4068-96e4-539428c76ece"
      },
      "execution_count": 1,
      "outputs": [
        {
          "output_type": "stream",
          "name": "stdout",
          "text": [
            "Error: Cannot divide by zero.\n",
            "Error: Variable is not defined.\n",
            "Error: Cannot convert 'abc' to an integer.\n",
            "Error: Dictionary key does not exist.\n"
          ]
        }
      ]
    },
    {
      "cell_type": "markdown",
      "source": [
        "## **Task 2: Using `try-except-else-finally`**\n",
        "\n",
        "**Objective:** Learn to use complete exception handling structures.\n",
        "\n",
        "**Instructions:**\n",
        "\n",
        "1. Write a Python function that:\n",
        "   - Asks the user to enter two numbers.\n",
        "   - Attempts to divide the first number by the second.\n",
        "   - Uses `try-except` to handle errors such as division by zero and invalid inputs.\n",
        "   - Uses `else` to display the result if no error occurs.\n",
        "   - Uses `finally` to print a message indicating that execution is complete."
      ],
      "metadata": {
        "id": "psq_lx4yjWeu"
      }
    },
    {
      "cell_type": "code",
      "source": [
        "def divide_numbers():\n",
        "    try:\n",
        "        num1 = float(input(\"Enter the first number: \"))\n",
        "        num2 = float(input(\"Enter the second number: \"))\n",
        "        result = num1 / num2\n",
        "    except ZeroDivisionError:\n",
        "        print(\"Error: Cannot divide by zero.\")\n",
        "    except ValueError:\n",
        "        print(\"Error: Invalid input. Please enter a number.\")\n",
        "    else:\n",
        "        print(f\"The result of division is: {result}\")\n",
        "    finally:\n",
        "        print(\"Execution complete.\")\n",
        "\n",
        "divide_numbers()\n"
      ],
      "metadata": {
        "id": "qz7VowtNjOrG",
        "colab": {
          "base_uri": "https://localhost:8080/"
        },
        "outputId": "05d89b3f-2cc0-4826-f4da-d505d30de53c"
      },
      "execution_count": 2,
      "outputs": [
        {
          "output_type": "stream",
          "name": "stdout",
          "text": [
            "Enter the first number: 1\n",
            "Enter the second number: 2\n",
            "The result of division is: 0.5\n",
            "Execution complete.\n"
          ]
        }
      ]
    },
    {
      "cell_type": "markdown",
      "source": [
        "## **Task 3: Handling Nested Exceptions**\n",
        "\n",
        "**Objective:** Handle exceptions using nested `try-except` blocks.\n",
        "\n",
        "**Instructions:**\n",
        "\n",
        "1. Write a Python function that:\n",
        "   - Asks the user to enter a filename.\n",
        "   - Tries to open the file for reading.\n",
        "   - Asks the user to enter a number and divides 100 by that number.\n",
        "2. Implement nested `try-except` blocks to handle both `FileNotFoundError` (if the file is missing) and `ZeroDivisionError` (if division by zero occurs).\n",
        "3. Display appropriate error messages and ensure the program completes execution."
      ],
      "metadata": {
        "id": "Hb9LysAkjF1A"
      }
    },
    {
      "cell_type": "code",
      "source": [
        "def process_file_and_number():\n",
        "    filename = input(\"enter file name \")\n",
        "    try:\n",
        "        with open(filename, 'r') as file:\n",
        "            content = file.read()\n",
        "            print(\"File read successfully.\")\n",
        "    except FileNotFoundError:\n",
        "        print(\"Error: File not found.\")\n",
        "    else:\n",
        "        try:\n",
        "            number = float(input(\"Enter a number: \"))\n",
        "            result = 100 / number\n",
        "            print(f\"The result of division is: {result}\")\n",
        "        except ZeroDivisionError:\n",
        "            print(\"Error: Cannot divide by zero.\")\n",
        "        except ValueError:\n",
        "            print(\"Error: Invalid input. Please enter a number.\")\n",
        "\n",
        "process_file_and_number()\n"
      ],
      "metadata": {
        "id": "Z0QV5Z0fjDNc",
        "colab": {
          "base_uri": "https://localhost:8080/"
        },
        "outputId": "038db850-903b-4c84-bc32-981dbb8b50b9"
      },
      "execution_count": 5,
      "outputs": [
        {
          "output_type": "stream",
          "name": "stdout",
          "text": [
            "enter file name  a\n",
            "Error: File not found.\n"
          ]
        }
      ]
    },
    {
      "cell_type": "markdown",
      "source": [
        "## **Task 4: Exception Handling in Financial Calculations**\n",
        "\n",
        "**Objective:** Implement exception handling in financial calculations.\n",
        "\n",
        "**Instructions:**\n",
        "\n",
        "1. Create a list of stock prices, some of which include zero or non-numeric values.\n",
        "2. Attempt to calculate the percentage change between consecutive prices.\n",
        "3. Handle errors caused by division by zero and invalid data types.\n",
        "4. Ensure that the program continues running even when errors occur."
      ],
      "metadata": {
        "id": "ivTzDRFei-SY"
      }
    },
    {
      "cell_type": "code",
      "source": [
        "stock_prices = [100, 0, 'invalid', 150, 200]\n",
        "\n",
        "for i in range(1, len(stock_prices)):\n",
        "    try:\n",
        "        previous_price = float(stock_prices[i - 1])\n",
        "        current_price = float(stock_prices[i])\n",
        "        if previous_price == 0:\n",
        "            print(\"Error: Division by zero.\")\n",
        "        else:\n",
        "            percentage_change = ((current_price - previous_price) / previous_price) * 100\n",
        "            print(f\"Percentage change: {percentage_change:.2f}%\")\n",
        "    except ValueError:\n",
        "        print(\"Error: Invalid data type.\")\n"
      ],
      "metadata": {
        "id": "jFhlAGldi49s",
        "colab": {
          "base_uri": "https://localhost:8080/"
        },
        "outputId": "d732ff3d-7356-43bc-b6d9-0d8dbc5fdffe"
      },
      "execution_count": 8,
      "outputs": [
        {
          "output_type": "stream",
          "name": "stdout",
          "text": [
            "Percentage change: -100.00%\n",
            "Error: Invalid data type.\n",
            "Error: Invalid data type.\n",
            "Percentage change: 33.33%\n"
          ]
        }
      ]
    },
    {
      "cell_type": "markdown",
      "source": [
        "## **Task 5: Exception Handling in File Operations**\n",
        "\n",
        "**Objective:** Learn to handle file-related errors.\n",
        "\n",
        "**Instructions:**\n",
        "\n",
        "1. Ask the user for a filename.\n",
        "2. Try to open and read the file.\n",
        "3. Handle `FileNotFoundError` if the file does not exist.\n",
        "4. Use `finally` to print a completion message."
      ],
      "metadata": {
        "id": "DEQZUxY8iugd"
      }
    },
    {
      "cell_type": "code",
      "source": [
        "def read_file():\n",
        "    filename = input(\"enter the filename \")\n",
        "    try:\n",
        "        with open(filename, 'r') as file:\n",
        "            content = file.read()\n",
        "            print(\"File read successfully.\")\n",
        "    except FileNotFoundError:\n",
        "        print(\"Error: File not found.\")\n",
        "    finally:\n",
        "        print(\"Execution complete.\")\n",
        "\n",
        "read_file()\n"
      ],
      "metadata": {
        "id": "QAkka23_ir6H",
        "colab": {
          "base_uri": "https://localhost:8080/"
        },
        "outputId": "ab407c1b-3425-41bd-b69a-42a5ce6e2c2b"
      },
      "execution_count": 9,
      "outputs": [
        {
          "output_type": "stream",
          "name": "stdout",
          "text": [
            "enter the filename a.txt\n",
            "Error: File not found.\n",
            "Execution complete.\n"
          ]
        }
      ]
    },
    {
      "cell_type": "markdown",
      "source": [
        "## **Task 6: Raising Custom Exceptions Without Classes**\n",
        "\n",
        "**Objective:** Learn to raise and handle specific exceptions.\n",
        "\n",
        "**Instructions:**\n",
        "\n",
        "1. Write a function that checks if a number is negative.\n",
        "2. If the number is negative, raise a `ValueError`.\n",
        "3. Handle the exception with an appropriate message."
      ],
      "metadata": {
        "id": "WyhcCwlhicUl"
      }
    },
    {
      "cell_type": "code",
      "execution_count": 11,
      "metadata": {
        "id": "ySZnVpRhiGiH",
        "colab": {
          "base_uri": "https://localhost:8080/"
        },
        "outputId": "ff9d9f18-0890-4999-b01c-4a6df5a2eee4"
      },
      "outputs": [
        {
          "output_type": "stream",
          "name": "stdout",
          "text": [
            "Enter a number: 2\n",
            "Number is positive or zero.\n"
          ]
        }
      ],
      "source": [
        "def check_negative_number():\n",
        "    try:\n",
        "        number = float(input(\"Enter a number: \"))\n",
        "        if number < 0:\n",
        "            raise ValueError(\"Error: Number is negative.\")\n",
        "        print(\"Number is positive or zero.\")\n",
        "    except ValueError as error_message:\n",
        "        print(error_message)\n",
        "\n",
        "check_negative_number()\n"
      ]
    },
    {
      "cell_type": "markdown",
      "source": [
        "## **Task 7: Loan Eligibility Check with Exception Handling**  \n",
        "**Objective:** Implement exception handling in a financial scenario to determine loan eligibility.  \n",
        "\n",
        "**Instructions:**  \n",
        "1. Ask the user to enter:  \n",
        "   - Their **age** (must be an integer and ≥ 18).  \n",
        "   - Their **monthly income** (must be a positive number).  \n",
        "   - Their **loan amount requested** (must not exceed 10 times their income).  \n",
        "2. Use `try-except` to handle the following errors:  \n",
        "   - If age is less than 18, raise a **ValueError**.  \n",
        "   - If income or loan amount is invalid (negative or zero), raise a **ValueError**.  \n",
        "   - If the loan amount is too high (more than 10 times the income), raise a **custom exception** with a relevant message.  \n",
        "3. Print a message indicating whether the loan is **approved** or **denied**.  \n"
      ],
      "metadata": {
        "id": "sdoCtY_ymIVf"
      }
    },
    {
      "cell_type": "code",
      "source": [
        "def check_loan_eligibility():\n",
        "    try:\n",
        "        age = int(input(\"Enter your age: \"))\n",
        "        if age < 18:\n",
        "            raise ValueError(\"Error: You must be 18 or older.\")\n",
        "\n",
        "        income = float(input(\"Enter your monthly income: \"))\n",
        "        if income <= 0:\n",
        "            raise ValueError(\"Error: Income must be a positive number.\")\n",
        "\n",
        "        loan_amount = float(input(\"Enter the loan amount requested: \"))\n",
        "        if loan_amount <= 0:\n",
        "            raise ValueError(\"Error: Loan amount must be a positive number.\")\n",
        "        if loan_amount > 10 * income:\n",
        "            raise Exception(\"Error: Loan amount exceeds 10 times your monthly income.\")\n",
        "\n",
        "        print(\"Loan approved!\")\n",
        "\n",
        "    except ValueError as ve:\n",
        "        print(ve)\n",
        "    except Exception as e:\n",
        "        print(e)\n",
        "\n",
        "check_loan_eligibility()\n"
      ],
      "metadata": {
        "id": "vc-LGFN7mIEt",
        "colab": {
          "base_uri": "https://localhost:8080/"
        },
        "outputId": "52cc9005-e54c-4e78-8044-e4e2ec8f4fe7"
      },
      "execution_count": 13,
      "outputs": [
        {
          "output_type": "stream",
          "name": "stdout",
          "text": [
            "Enter your age: 21\n",
            "Enter your monthly income: 200\n",
            "Enter the loan amount requested: 100\n",
            "Loan approved!\n"
          ]
        }
      ]
    }
  ]
}