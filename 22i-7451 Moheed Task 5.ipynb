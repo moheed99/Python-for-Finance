{
  "nbformat": 4,
  "nbformat_minor": 0,
  "metadata": {
    "colab": {
      "provenance": []
    },
    "kernelspec": {
      "name": "python3",
      "display_name": "Python 3"
    },
    "language_info": {
      "name": "python"
    }
  },
  "cells": [
    {
      "cell_type": "markdown",
      "source": [
        "# **Programming for Finance - Week 5 LAB**\n",
        "\n",
        "## **🔹 Overview**\n",
        "In this lab, you will learn:\n",
        "- How to read, write, and append **text files** in Python.\n",
        "- How to read and write **CSV files** using Python's `csv` module.\n",
        "- How to use `pandas` for **basic CSV processing**.\n",
        "- Financial applications of file handling."
      ],
      "metadata": {
        "id": "NU_lHVxsiyM_"
      }
    },
    {
      "cell_type": "code",
      "source": [
        "#Enter your Name, roll No. and Section here!!!\n",
        "#22i-7451\n",
        "#Moheed Ul Hassan\n",
        "#section C"
      ],
      "metadata": {
        "id": "B127k99JmeVK"
      },
      "execution_count": null,
      "outputs": []
    },
    {
      "cell_type": "markdown",
      "source": [
        "### **📝 Task 1: Reading a Financial Transaction File**\n",
        "#### **🔹 Instructions**\n",
        "1. **Create a text file (`transactions.txt`)** containing the following sample financial transactions:\n",
        "   ```\n",
        "   Deposit: PKR 10,000\n",
        "   Withdrawal: PKR 5,000\n",
        "   Balance: PKR 50,000\n",
        "   ```\n",
        "2. **Write a Python program** to read and display the file content.\n",
        "3. **Ensure the file closes properly** to avoid memory leaks.\n"
      ],
      "metadata": {
        "id": "wSojEJcSizuj"
      }
    },
    {
      "cell_type": "code",
      "execution_count": 1,
      "metadata": {
        "colab": {
          "base_uri": "https://localhost:8080/"
        },
        "id": "DnuEtuF_ixIe",
        "outputId": "34545a20-b744-47df-d7e7-f567d3aa69ea"
      },
      "outputs": [
        {
          "output_type": "stream",
          "name": "stdout",
          "text": [
            "Deposit: PKR 10,000\n",
            "Withdrawal: PKR 5,000\n",
            "Balance: PKR 50,000\n",
            "\n"
          ]
        }
      ],
      "source": [
        "file = open(\"transactions.txt\", \"w\")\n",
        "file.write(\"Deposit: PKR 10,000\\n\")\n",
        "file.write(\"Withdrawal: PKR 5,000\\n\")\n",
        "file.write(\"Balance: PKR 50,000\\n\")\n",
        "file.close()\n",
        "\n",
        "file = open(\"transactions.txt\", \"r\")\n",
        "contents = file.read()\n",
        "file.close()\n",
        "\n",
        "print(contents)"
      ]
    },
    {
      "cell_type": "markdown",
      "source": [
        "### **📝 Task 2: Writing New Transactions to a File**\n",
        "#### **🔹 Instructions**\n",
        "1. Modify the code to create a new file (`new_transactions.txt`).\n",
        "2. Write the following financial transactions to the file:\n",
        "   ```\n",
        "   Deposit: PKR 15,000\n",
        "   Withdrawal: PKR 3,000\n",
        "   Balance: PKR 62,000\n",
        "   ```\n",
        "3. Ensure each transaction is written on a **new line**.\n",
        "\n",
        "\n"
      ],
      "metadata": {
        "id": "9sO4bZMwi9Li"
      }
    },
    {
      "cell_type": "code",
      "source": [
        "file = open(\"new_transactions.txt\", \"w\")\n",
        "file.write(\"Deposit: PKR 15,000\\n\")\n",
        "file.write(\"Withdrawal: PKR 3,000\\n\")\n",
        "file.write(\"Balance: PKR 62,000\\n\")\n",
        "file.close()"
      ],
      "metadata": {
        "id": "AM6v9HHSjEP6"
      },
      "execution_count": 2,
      "outputs": []
    },
    {
      "cell_type": "markdown",
      "source": [
        "### **📝 Task 3: Appending New Transactions**\n",
        "#### **🔹 Instructions**\n",
        "1. Modify the previous program to **append** the following new transactions instead of overwriting the file:\n",
        "   ```\n",
        "   Deposit: PKR 5,000\n",
        "   Withdrawal: PKR 1,500\n",
        "   ```\n",
        "2. Ensure the new transactions are added at the end of the file.\n",
        "3. Verify by opening and reading the file after appending.\n",
        "\n",
        "\n"
      ],
      "metadata": {
        "id": "i_zhguEojSg8"
      }
    },
    {
      "cell_type": "code",
      "source": [
        "file = open(\"new_transactions.txt\", \"a\")\n",
        "file.write(\"Deposit: PKR 5,000\\n\")\n",
        "file.write(\"Withdrawal: PKR 1,500\\n\")\n",
        "file.close()\n",
        "\n",
        "file = open(\"new_transactions.txt\", \"r\")\n",
        "contents = file.read()\n",
        "file.close()\n",
        "\n",
        "print(contents)"
      ],
      "metadata": {
        "colab": {
          "base_uri": "https://localhost:8080/"
        },
        "id": "Qwqqp4u4kZOj",
        "outputId": "78f4f2ae-5d03-4a19-e72e-1add71772eb1"
      },
      "execution_count": 3,
      "outputs": [
        {
          "output_type": "stream",
          "name": "stdout",
          "text": [
            "Deposit: PKR 15,000\n",
            "Withdrawal: PKR 3,000\n",
            "Balance: PKR 62,000\n",
            "Deposit: PKR 5,000\n",
            "Withdrawal: PKR 1,500\n",
            "\n"
          ]
        }
      ]
    },
    {
      "cell_type": "markdown",
      "source": [
        "### **📝 Task 4: Reading a Large File Line by Line**\n",
        "#### **🔹 Instructions**\n",
        "1. Modify Task 1’s code to **read the file line by line** instead of loading it all at once.\n",
        "2. Use a loop to print each line individually.\n"
      ],
      "metadata": {
        "id": "LjMN69MCj2Ic"
      }
    },
    {
      "cell_type": "code",
      "source": [
        "file = open(\"transactions.txt\", \"r\")\n",
        "for line in file:\n",
        "    print(line)\n",
        "file.close()"
      ],
      "metadata": {
        "colab": {
          "base_uri": "https://localhost:8080/"
        },
        "id": "9mfWwuGukcen",
        "outputId": "6774f271-300e-47dd-c6e9-4d058d9022a2"
      },
      "execution_count": 4,
      "outputs": [
        {
          "output_type": "stream",
          "name": "stdout",
          "text": [
            "Deposit: PKR 10,000\n",
            "\n",
            "Withdrawal: PKR 5,000\n",
            "\n",
            "Balance: PKR 50,000\n",
            "\n"
          ]
        }
      ]
    },
    {
      "cell_type": "markdown",
      "source": [
        "### **📝 Task 5: Using `with open()` for Safe File Handling**\n",
        "#### **🔹 Instructions**\n",
        "1. Modify Task 1’s code to use `with open()` for **automatic file closing**.\n",
        "2. Ensure the file closes automatically after reading."
      ],
      "metadata": {
        "id": "9_oQD2Puj6Zn"
      }
    },
    {
      "cell_type": "code",
      "source": [
        "with open(\"transactions.txt\", \"r\") as file:\n",
        "    content = file.read()\n",
        "    print(content)"
      ],
      "metadata": {
        "colab": {
          "base_uri": "https://localhost:8080/"
        },
        "id": "I-e4j4tIkfph",
        "outputId": "2837b5d0-540d-4e21-8ccc-b2045004610e"
      },
      "execution_count": 5,
      "outputs": [
        {
          "output_type": "stream",
          "name": "stdout",
          "text": [
            "Deposit: PKR 10,000\n",
            "Withdrawal: PKR 5,000\n",
            "Balance: PKR 50,000\n",
            "\n"
          ]
        }
      ]
    },
    {
      "cell_type": "markdown",
      "source": [
        "### **📝 Task 6: Creating a CSV File**\n",
        "#### **🔹 Instructions**\n",
        "1. Create a CSV file (`transactions.csv`) with the following financial transactions:\n",
        "   ```csv\n",
        "   Date,Transaction Type,Amount,Balance\n",
        "   2024-02-01,Deposit,10000,60000\n",
        "   2024-02-02,Withdrawal,2000,58000\n",
        "   2024-02-03,Deposit,5000,63000\n",
        "   ```\n",
        "2. Save this CSV file correctly.\n"
      ],
      "metadata": {
        "id": "RyK2RXAcj_X1"
      }
    },
    {
      "cell_type": "code",
      "source": [
        "import csv\n",
        "\n",
        "data = [\n",
        "    ['Date', 'Transaction Type', 'Amount', 'Balance'],\n",
        "    ['2024-02-01', 'Deposit', '10000', '60000'],\n",
        "    ['2024-02-02', 'Withdrawal', '2000', '58000'],\n",
        "    ['2024-02-03', 'Deposit', '5000', '63000']\n",
        "]\n",
        "\n",
        "\n",
        "with open('transactions.csv', 'w', newline='') as csvfile:\n",
        "    writer = csv.writer(csvfile)\n",
        "    writer.writerows(data)\n",
        "\n",
        "print(\"transactions.csv file created successfully.\")"
      ],
      "metadata": {
        "colab": {
          "base_uri": "https://localhost:8080/"
        },
        "id": "6iFdCLzDkhka",
        "outputId": "7999fc4a-eb98-4e43-f0fb-db111662aab4"
      },
      "execution_count": 6,
      "outputs": [
        {
          "output_type": "stream",
          "name": "stdout",
          "text": [
            "transactions.csv file created successfully.\n"
          ]
        }
      ]
    },
    {
      "cell_type": "markdown",
      "source": [
        "### **📝 Task 7: Reading a CSV File**\n",
        "#### **🔹 Instructions**\n",
        "1. Open and read the `transactions.csv` file.\n",
        "2. Print each row separately.\n"
      ],
      "metadata": {
        "id": "EGTT7kyXkCEw"
      }
    },
    {
      "cell_type": "code",
      "source": [
        "import csv\n",
        "\n",
        "with open('transactions.csv', 'r') as csvfile:\n",
        "    reader = csv.reader(csvfile)\n",
        "    for row in reader:\n",
        "        print(row)"
      ],
      "metadata": {
        "colab": {
          "base_uri": "https://localhost:8080/"
        },
        "id": "b5oQeRLZkkzL",
        "outputId": "c36db58e-74cd-478c-de98-1bbdd116e4d3"
      },
      "execution_count": 7,
      "outputs": [
        {
          "output_type": "stream",
          "name": "stdout",
          "text": [
            "['Date', 'Transaction Type', 'Amount', 'Balance']\n",
            "['2024-02-01', 'Deposit', '10000', '60000']\n",
            "['2024-02-02', 'Withdrawal', '2000', '58000']\n",
            "['2024-02-03', 'Deposit', '5000', '63000']\n"
          ]
        }
      ]
    },
    {
      "cell_type": "markdown",
      "source": [
        "### **📝 Task 8: Writing to a CSV File**\n",
        "#### **🔹 Instructions**\n",
        "1. Modify the code to write additional transactions to the CSV file.\n",
        "```csv\n",
        "2024-02-04, Deposit, 7000, 70000\n",
        "2024-02-05, Withdrawal, 3000, 67000\n",
        "```"
      ],
      "metadata": {
        "id": "1hR4pGZ5kGzV"
      }
    },
    {
      "cell_type": "code",
      "source": [
        "import csv\n",
        "\n",
        "new_transactions = [\n",
        "    ['2024-02-04', 'Deposit', '7000', '70000'],\n",
        "    ['2024-02-05', 'Withdrawal', '3000', '67000']\n",
        "]\n",
        "\n",
        "with open('transactions.csv', 'a', newline='') as csvfile:\n",
        "    writer = csv.writer(csvfile)\n",
        "    writer.writerows(new_transactions)\n",
        "\n",
        "print(\"New transactions added to transactions.csv\")"
      ],
      "metadata": {
        "colab": {
          "base_uri": "https://localhost:8080/"
        },
        "id": "jfQCCwerknn_",
        "outputId": "fd279a68-c768-4167-93a8-353421c20388"
      },
      "execution_count": 8,
      "outputs": [
        {
          "output_type": "stream",
          "name": "stdout",
          "text": [
            "New transactions added to transactions.csv\n"
          ]
        }
      ]
    },
    {
      "cell_type": "markdown",
      "source": [
        "\n",
        "### **📝 Task 9: Reading a CSV with Pandas**\n",
        "#### **🔹 Instructions**\n",
        "1. Load `transactions.csv` into a Pandas DataFrame.\n",
        "2. Display the first 5 rows.\n"
      ],
      "metadata": {
        "id": "1nCprf7DkK1-"
      }
    },
    {
      "cell_type": "code",
      "source": [
        "import pandas as pd\n",
        "\n",
        "df = pd.read_csv(\"transactions.csv\")\n",
        "\n",
        "print(df.head())"
      ],
      "metadata": {
        "colab": {
          "base_uri": "https://localhost:8080/"
        },
        "id": "eCXPpZBikrVs",
        "outputId": "48304f3c-eb86-413e-da68-9438b74a560c"
      },
      "execution_count": 9,
      "outputs": [
        {
          "output_type": "stream",
          "name": "stdout",
          "text": [
            "         Date Transaction Type  Amount  Balance\n",
            "0  2024-02-01          Deposit   10000    60000\n",
            "1  2024-02-02       Withdrawal    2000    58000\n",
            "2  2024-02-03          Deposit    5000    63000\n",
            "3  2024-02-04          Deposit    7000    70000\n",
            "4  2024-02-05       Withdrawal    3000    67000\n"
          ]
        }
      ]
    },
    {
      "cell_type": "markdown",
      "source": [
        "\n",
        "### **📝 Bonus Task: Basic Data Operations with Pandas**\n",
        "#### **🔹 Instructions**\n",
        "1. Count the number of deposits and withdrawals.\n",
        "2. Display only transactions of type \"Deposit\".\n",
        "\n"
      ],
      "metadata": {
        "id": "FBezWiNEjIVG"
      }
    },
    {
      "cell_type": "code",
      "source": [
        "import pandas as pd\n",
        "\n",
        "df = pd.read_csv(\"transactions.csv\")\n",
        "\n",
        "transaction_counts = df[\"Transaction Type\"].value_counts()\n",
        "print(transaction_counts)\n",
        "\n",
        "deposits = df[df[\"Transaction Type\"] == \"Deposit\"]\n",
        "print(deposits)"
      ],
      "metadata": {
        "colab": {
          "base_uri": "https://localhost:8080/"
        },
        "id": "syMv8c5Hkwx3",
        "outputId": "5e0d9471-0191-4dbf-adf4-6e386f60f780"
      },
      "execution_count": 10,
      "outputs": [
        {
          "output_type": "stream",
          "name": "stdout",
          "text": [
            "Transaction Type\n",
            "Deposit       3\n",
            "Withdrawal    2\n",
            "Name: count, dtype: int64\n",
            "         Date Transaction Type  Amount  Balance\n",
            "0  2024-02-01          Deposit   10000    60000\n",
            "2  2024-02-03          Deposit    5000    63000\n",
            "3  2024-02-04          Deposit    7000    70000\n"
          ]
        }
      ]
    },
    {
      "cell_type": "markdown",
      "source": [
        "#**Submit your file**"
      ],
      "metadata": {
        "id": "jo0GyqaZm1F_"
      }
    }
  ]
}